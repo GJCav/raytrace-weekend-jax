{
 "cells": [
  {
   "cell_type": "code",
   "execution_count": 8,
   "id": "dd0f1981",
   "metadata": {},
   "outputs": [],
   "source": [
    "import jax\n",
    "import jax.numpy as jnp\n",
    "from jaxtyping import Float, Array, Int\n",
    "from icecream import ic\n",
    "import jax.random\n",
    "import numpy as np\n",
    "from flax.struct import dataclass\n",
    "import myraytrace.utils as utils\n",
    "from myraytrace.objects import Mesh"
   ]
  },
  {
   "cell_type": "code",
   "execution_count": 1,
   "id": "43fd258a",
   "metadata": {},
   "outputs": [
    {
     "data": {
      "text/plain": [
       "WindowsPath('D:/repos/myraytrace/src/myraytrace/bunny.obj')"
      ]
     },
     "execution_count": 1,
     "metadata": {},
     "output_type": "execute_result"
    }
   ],
   "source": [
    "import importlib.resources\n",
    "path = importlib.resources.files(\"myraytrace\") / \"bunny.obj\"\n",
    "path"
   ]
  },
  {
   "cell_type": "code",
   "execution_count": 3,
   "id": "1bb70636",
   "metadata": {},
   "outputs": [],
   "source": [
    "import pyvista as pv"
   ]
  },
  {
   "cell_type": "code",
   "execution_count": null,
   "id": "ccb4f483",
   "metadata": {},
   "outputs": [],
   "source": [
    "path = importlib.resources.files(\"myraytrace\") / \"bunny.obj\"\n",
    "obj = pv.read(path)\n",
    "obj = obj.decimate_pro(reduction=0.6)\n",
    "\n",
    "N = obj.points.shape[0]  # number of vertices\n",
    "M = obj.n_faces\n",
    "\n",
    "vertices = jnp.array(obj.points, dtype=jnp.float32)  # shape (N, 3)\n",
    "point_normals = jnp.array(obj.point_normals, dtype=jnp.float32)  # shape (N, 3)\n",
    "faces = jnp.array(obj.faces.reshape(-1, 4)[:, 1:], dtype=jnp.int32)  # shape (M, 3)"
   ]
  },
  {
   "cell_type": "code",
   "execution_count": null,
   "id": "6503a5a7",
   "metadata": {},
   "outputs": [
    {
     "data": {
      "text/plain": [
       "(346, 730, 3)"
      ]
     },
     "execution_count": 27,
     "metadata": {},
     "output_type": "execute_result"
    }
   ],
   "source": [
    "from PIL import Image\n",
    "\n",
    "path = importlib.resources.files(\"myraytrace\") / \"Sepia-Rainbow-map.jpg\"\n",
    "\n",
    "# Load the image and convert to RGB\n",
    "img = Image.open(path).convert(\"RGB\")\n",
    "img_np = np.array(img).astype(np.float32) / 255.0  # Normalize to [0, 1]\n",
    "img_jax = jnp.asarray(img_np)  # Convert to JAX array\n",
    "img_jax.shape"
   ]
  }
 ],
 "metadata": {
  "kernelspec": {
   "display_name": "default",
   "language": "python",
   "name": "python3"
  },
  "language_info": {
   "codemirror_mode": {
    "name": "ipython",
    "version": 3
   },
   "file_extension": ".py",
   "mimetype": "text/x-python",
   "name": "python",
   "nbconvert_exporter": "python",
   "pygments_lexer": "ipython3",
   "version": "3.13.0"
  }
 },
 "nbformat": 4,
 "nbformat_minor": 5
}
